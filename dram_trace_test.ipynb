{
 "cells": [
  {
   "cell_type": "code",
   "execution_count": 1,
   "metadata": {},
   "outputs": [],
   "source": [
    "from UnarySim.sw.app.uSystolic.archSim.dram_trace import dram_trace_read_v2, dram_trace_write"
   ]
  },
  {
   "cell_type": "code",
   "execution_count": 2,
   "metadata": {},
   "outputs": [],
   "source": [
    "word_size_bytes = 1\n",
    "ifmap_sram_size= 64\n",
    "filter_sram_size = 64\n",
    "ofmap_sram_size = 64\n",
    "ifmap_base=0\n",
    "filt_base = 1000000\n",
    "ofmap_base = 2000000"
   ]
  },
  {
   "cell_type": "code",
   "execution_count": 3,
   "metadata": {},
   "outputs": [],
   "source": [
    "# sram_read_trace_file = \"sram_read_ws.csv\"\n",
    "sram_read_trace_file = \"sram_read_ws_usystolic_opt.csv\"\n",
    "dram_ifmap_trace_file = \"dram_ifmap_read.csv\"\n",
    "\n",
    "dram_trace_read_v2(\n",
    "        sram_sz=ifmap_sram_size,\n",
    "        word_sz_bytes=word_size_bytes,\n",
    "        min_addr=ifmap_base, max_addr=filt_base,\n",
    "        sram_trace_file=sram_read_trace_file,\n",
    "        dram_trace_file=dram_ifmap_trace_file,\n",
    "    )"
   ]
  },
  {
   "cell_type": "code",
   "execution_count": 4,
   "metadata": {},
   "outputs": [],
   "source": [
    "sram_write_trace_file = \"sram_write_ws_usystolic_opt.csv\"\n",
    "dram_ofmap_trace_file = \"dram_ofmap_write.csv\"\n",
    "\n",
    "dram_trace_write(\n",
    "        ofmap_sram_size= ofmap_sram_size,\n",
    "        word_sz_bytes= word_size_bytes,\n",
    "        sram_write_trace_file= sram_write_trace_file,\n",
    "        dram_write_trace_file= dram_ofmap_trace_file\n",
    "    )"
   ]
  }
 ],
 "metadata": {
  "kernelspec": {
   "display_name": "Python 3",
   "language": "python",
   "name": "python3"
  },
  "language_info": {
   "codemirror_mode": {
    "name": "ipython",
    "version": 3
   },
   "file_extension": ".py",
   "mimetype": "text/x-python",
   "name": "python",
   "nbconvert_exporter": "python",
   "pygments_lexer": "ipython3",
   "version": "3.8.5"
  }
 },
 "nbformat": 4,
 "nbformat_minor": 4
}
