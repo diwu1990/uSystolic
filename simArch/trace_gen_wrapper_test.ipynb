{
 "cells": [
  {
   "cell_type": "code",
   "execution_count": 1,
   "metadata": {},
   "outputs": [],
   "source": [
    "from UnarySim.sw.app.uSystolic.archSim.trace_gen_wrapper import gen_all_traces\n",
    "import glob, os"
   ]
  },
  {
   "cell_type": "code",
   "execution_count": 2,
   "metadata": {},
   "outputs": [],
   "source": [
    "def run(\n",
    "    word_size_bytes = 1,\n",
    "    sram_size = 64,\n",
    "    mac_cycles = 1,\n",
    "    wgt_bw_opt = False\n",
    "):\n",
    "    prefix = str(word_size_bytes) + \"_\" + str(sram_size) + \"_\" + str(mac_cycles) + \"_\"\n",
    "    reg = prefix + \"*.csv\"\n",
    "    for f in glob.glob(reg):\n",
    "        os.remove(f)\n",
    "    gen_all_traces(\n",
    "            array_h = 8,\n",
    "            array_w = 8,\n",
    "            ifmap_h = 7, ifmap_w = 7,\n",
    "            filt_h  = 3, filt_w = 3,\n",
    "            num_channels = 3,\n",
    "            strides = 1, num_filt = 8,\n",
    "            word_size_bytes = word_size_bytes,\n",
    "            filter_sram_size = sram_size, ifmap_sram_size= sram_size, ofmap_sram_size = sram_size,\n",
    "            mac_cycles=mac_cycles, wgt_bw_opt=wgt_bw_opt,\n",
    "            sram_read_trace_file = prefix + \"sram_read.csv\", sram_write_trace_file = prefix + \"sram_write.csv\",\n",
    "            dram_filter_trace_file = prefix + \"dram_filter_read.csv\", dram_ifmap_trace_file = prefix + \"dram_ifmap_read.csv\", dram_ofmap_trace_file = prefix + \"dram_ofmap_write.csv\"\n",
    "            )"
   ]
  },
  {
   "cell_type": "code",
   "execution_count": 3,
   "metadata": {},
   "outputs": [
    {
     "name": "stderr",
     "output_type": "stream",
     "text": [
      "100%|██████████| 1/1 [00:00<00:00, 199.95it/s]"
     ]
    },
    {
     "name": "stdout",
     "output_type": "stream",
     "text": [
      "Generating traces and bw numbers\n",
      "Average utilization : \t86.89516129032258 %\n",
      "Cycles for compute  : \t186 cycles\n",
      "DRAM IFMAP Read BW  : \t2.767195767195767 Bytes/cycle\n",
      "DRAM Filter Read BW : \t1.1428571428571428 Bytes/cycle\n",
      "DRAM OFMAP Write BW : \t4.232804232804233 Bytes/cycle\n"
     ]
    },
    {
     "name": "stderr",
     "output_type": "stream",
     "text": [
      "\n"
     ]
    }
   ],
   "source": [
    "run(word_size_bytes = 1, sram_size = 16, mac_cycles = 1, wgt_bw_opt = False)"
   ]
  },
  {
   "cell_type": "code",
   "execution_count": 4,
   "metadata": {},
   "outputs": [
    {
     "name": "stderr",
     "output_type": "stream",
     "text": [
      "  0%|          | 0/1 [00:00<?, ?it/s]"
     ]
    },
    {
     "name": "stdout",
     "output_type": "stream",
     "text": [
      "Generating traces and bw numbers\n"
     ]
    },
    {
     "name": "stderr",
     "output_type": "stream",
     "text": [
      "100%|██████████| 1/1 [00:00<00:00,  7.63it/s]\n"
     ]
    },
    {
     "name": "stdout",
     "output_type": "stream",
     "text": [
      "Average utilization : \t84.39324924083158 %\n",
      "Cycles for compute  : \t25686 cycles\n",
      "DRAM IFMAP Read BW  : \t0.019425412644036126 Bytes/cycle\n",
      "DRAM Filter Read BW : \t0.008408595453129867 Bytes/cycle\n",
      "DRAM OFMAP Write BW : \t0.031142946122703206 Bytes/cycle\n"
     ]
    }
   ],
   "source": [
    "run(word_size_bytes = 1, sram_size = 16, mac_cycles = 256, wgt_bw_opt = False)"
   ]
  },
  {
   "cell_type": "code",
   "execution_count": 5,
   "metadata": {},
   "outputs": [
    {
     "name": "stderr",
     "output_type": "stream",
     "text": [
      "  0%|          | 0/1 [00:00<?, ?it/s]"
     ]
    },
    {
     "name": "stdout",
     "output_type": "stream",
     "text": [
      "Generating traces and bw numbers\n"
     ]
    },
    {
     "name": "stderr",
     "output_type": "stream",
     "text": [
      "100%|██████████| 1/1 [00:00<00:00, 166.64it/s]"
     ]
    },
    {
     "name": "stdout",
     "output_type": "stream",
     "text": [
      "Average utilization : \t86.89516129032258 %\n",
      "Cycles for compute  : \t186 cycles\n",
      "DRAM IFMAP Read BW  : \t2.2864583333333335 Bytes/cycle\n",
      "DRAM Filter Read BW : \t1.125 Bytes/cycle\n",
      "DRAM OFMAP Write BW : \t4.166666666666667 Bytes/cycle\n"
     ]
    },
    {
     "name": "stderr",
     "output_type": "stream",
     "text": [
      "\n"
     ]
    }
   ],
   "source": [
    "run(word_size_bytes = 1, sram_size = 32, mac_cycles = 1, wgt_bw_opt = False)"
   ]
  },
  {
   "cell_type": "code",
   "execution_count": 6,
   "metadata": {},
   "outputs": [
    {
     "name": "stderr",
     "output_type": "stream",
     "text": [
      "100%|██████████| 1/1 [00:00<00:00, 166.61it/s]"
     ]
    },
    {
     "name": "stdout",
     "output_type": "stream",
     "text": [
      "Generating traces and bw numbers\n",
      "Average utilization : \t86.89516129032258 %\n",
      "Cycles for compute  : \t186 cycles\n",
      "DRAM IFMAP Read BW  : \t1.1432291666666667 Bytes/cycle\n",
      "DRAM Filter Read BW : \t0.5625 Bytes/cycle\n",
      "DRAM OFMAP Write BW : \t2.0833333333333335 Bytes/cycle\n"
     ]
    },
    {
     "name": "stderr",
     "output_type": "stream",
     "text": [
      "\n"
     ]
    }
   ],
   "source": [
    "run(word_size_bytes = 0.5, sram_size = 16, mac_cycles = 1, wgt_bw_opt = False)"
   ]
  },
  {
   "cell_type": "code",
   "execution_count": 7,
   "metadata": {},
   "outputs": [
    {
     "name": "stderr",
     "output_type": "stream",
     "text": [
      "  0%|          | 0/1 [00:00<?, ?it/s]"
     ]
    },
    {
     "name": "stdout",
     "output_type": "stream",
     "text": [
      "Generating traces and bw numbers\n"
     ]
    },
    {
     "name": "stderr",
     "output_type": "stream",
     "text": [
      "100%|██████████| 1/1 [00:00<00:00,  7.52it/s]\n"
     ]
    },
    {
     "name": "stdout",
     "output_type": "stream",
     "text": [
      "Average utilization : \t84.39324924083158 %\n",
      "Cycles for compute  : \t25686 cycles\n",
      "DRAM IFMAP Read BW  : \t0.016502549332503016 Bytes/cycle\n",
      "DRAM Filter Read BW : \t0.008406959093916632 Bytes/cycle\n",
      "DRAM OFMAP Write BW : \t0.031136885533024558 Bytes/cycle\n"
     ]
    }
   ],
   "source": [
    "run(word_size_bytes = 1, sram_size = 32, mac_cycles = 256, wgt_bw_opt = False)"
   ]
  },
  {
   "cell_type": "code",
   "execution_count": 8,
   "metadata": {},
   "outputs": [
    {
     "name": "stderr",
     "output_type": "stream",
     "text": [
      "  0%|          | 0/1 [00:00<?, ?it/s]"
     ]
    },
    {
     "name": "stdout",
     "output_type": "stream",
     "text": [
      "Generating traces and bw numbers\n"
     ]
    },
    {
     "name": "stderr",
     "output_type": "stream",
     "text": [
      "100%|██████████| 1/1 [00:00<00:00,  7.52it/s]\n"
     ]
    },
    {
     "name": "stdout",
     "output_type": "stream",
     "text": [
      "Average utilization : \t84.39324924083158 %\n",
      "Cycles for compute  : \t25686 cycles\n",
      "DRAM IFMAP Read BW  : \t0.008251274666251508 Bytes/cycle\n",
      "DRAM Filter Read BW : \t0.004203479546958316 Bytes/cycle\n",
      "DRAM OFMAP Write BW : \t0.015568442766512279 Bytes/cycle\n"
     ]
    }
   ],
   "source": [
    "run(word_size_bytes = 0.5, sram_size = 16, mac_cycles = 256, wgt_bw_opt = False)"
   ]
  }
 ],
 "metadata": {
  "kernelspec": {
   "display_name": "Python 3",
   "language": "python",
   "name": "python3"
  },
  "language_info": {
   "codemirror_mode": {
    "name": "ipython",
    "version": 3
   },
   "file_extension": ".py",
   "mimetype": "text/x-python",
   "name": "python",
   "nbconvert_exporter": "python",
   "pygments_lexer": "ipython3",
   "version": "3.8.5"
  }
 },
 "nbformat": 4,
 "nbformat_minor": 4
}
