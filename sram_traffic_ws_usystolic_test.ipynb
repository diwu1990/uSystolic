{
 "cells": [
  {
   "cell_type": "code",
   "execution_count": 1,
   "metadata": {},
   "outputs": [],
   "source": [
    "from UnarySim.sw.app.uSystolic.archSim import sram_traffic_ws\n",
    "from UnarySim.sw.app.uSystolic.archSim import sram_traffic_ws_usystolic\n",
    "import os\n",
    "import time"
   ]
  },
  {
   "cell_type": "code",
   "execution_count": 2,
   "metadata": {},
   "outputs": [],
   "source": [
    "dimension_rows=32 # row size of systolic array\n",
    "dimension_cols=32 # column size of systolic array\n",
    "ifmap_h=224 # input feature map height\n",
    "ifmap_w=224 # input feature map width\n",
    "filt_h=11 # weight height\n",
    "filt_w=11 # weight width\n",
    "num_channels=3 # input channel count\n",
    "strides=4 # stride, assuming identical in row and column dimension\n",
    "num_filt=8 # filter count, also output channel count\n",
    "ifmap_base=0 # input feature map base addr\n",
    "filt_base=1000000 # weight base addr\n",
    "ofmap_base=2000000 # output feature map base addr\n",
    "mac_cycles=1 # cycle count per mul\n",
    "wgt_bw_opt=False # optimize the bandwidth of input and output to match that of weight"
   ]
  },
  {
   "cell_type": "code",
   "execution_count": 3,
   "metadata": {},
   "outputs": [],
   "source": [
    "# if os.path.exists(\"sram_read_ws_usystolic_opt.csv\"):\n",
    "#   os.remove(\"sram_read_ws_usystolic_opt.csv\")\n",
    "# else:\n",
    "#   print(\"sram_read_ws_usystolic_opt.csv does not exist\")\n",
    "\n",
    "# if os.path.exists(\"sram_write_ws_usystolic_opt.csv\"):\n",
    "#   os.remove(\"sram_write_ws_usystolic_opt.csv\")\n",
    "# else:\n",
    "#   print(\"sram_write_ws_usystolic_opt.csv does not exist\")\n",
    "\n",
    "# start = time.time()\n",
    "# cycle, util = sram_traffic_ws_usystolic.sram_traffic(\n",
    "#         dimension_rows=dimension_rows, # row size of systolic array\n",
    "#         dimension_cols=dimension_cols, # column size of systolic array\n",
    "#         ifmap_h=ifmap_h, # input feature map height\n",
    "#         ifmap_w=ifmap_w, # input feature map width\n",
    "#         filt_h=filt_h, # weight height\n",
    "#         filt_w=filt_w, # weight width\n",
    "#         num_channels=num_channels, # input channel count\n",
    "#         strides=strides, # stride, assuming identical in row and column dimension\n",
    "#         num_filt=num_filt, # filter count, also output channel count\n",
    "#         ofmap_base=ofmap_base, # output feature map base addr\n",
    "#         filt_base=filt_base, # weight base addr\n",
    "#         ifmap_base=ifmap_base, # input feature map base addr\n",
    "#         mac_cycles=mac_cycles, # cycle count per mul\n",
    "#         wgt_bw_opt=True, # optimize the bandwidth of input and output to match that of weight\n",
    "#         sram_read_trace_file=\"sram_read_ws_usystolic_opt.csv\",\n",
    "#         sram_write_trace_file=\"sram_write_ws_usystolic_opt.csv\")\n",
    "# end = time.time()\n",
    "# print(end - start)\n",
    "# print(cycle, util)"
   ]
  },
  {
   "cell_type": "code",
   "execution_count": 4,
   "metadata": {},
   "outputs": [
    {
     "name": "stderr",
     "output_type": "stream",
     "text": [
      "100%|██████████| 1/1 [00:02<00:00,  2.37s/it]"
     ]
    },
    {
     "name": "stdout",
     "output_type": "stream",
     "text": [
      "2.3755345344543457\n",
      "35814 23.650449195845198\n"
     ]
    },
    {
     "name": "stderr",
     "output_type": "stream",
     "text": [
      "\n"
     ]
    }
   ],
   "source": [
    "if os.path.exists(\"sram_read_ws_usystolic_no_opt.csv\"):\n",
    "  os.remove(\"sram_read_ws_usystolic_no_opt.csv\")\n",
    "else:\n",
    "  print(\"sram_read_ws_usystolic_no_opt.csv does not exist\")\n",
    "\n",
    "if os.path.exists(\"sram_write_ws_usystolic_no_opt.csv\"):\n",
    "  os.remove(\"sram_write_ws_usystolic_no_opt.csv\")\n",
    "else:\n",
    "  print(\"sram_write_ws_usystolic_no_opt.csv does not exist\")\n",
    "\n",
    "start = time.time()\n",
    "cycle, util = sram_traffic_ws_usystolic.sram_traffic(\n",
    "        dimension_rows=dimension_rows, # row size of systolic array\n",
    "        dimension_cols=dimension_cols, # column size of systolic array\n",
    "        ifmap_h=ifmap_h, # input feature map height\n",
    "        ifmap_w=ifmap_w, # input feature map width\n",
    "        filt_h=filt_h, # weight height\n",
    "        filt_w=filt_w, # weight width\n",
    "        num_channels=num_channels, # input channel count\n",
    "        strides=strides, # stride, assuming identical in row and column dimension\n",
    "        num_filt=num_filt, # filter count, also output channel count\n",
    "        ofmap_base=ofmap_base, # output feature map base addr\n",
    "        filt_base=filt_base, # weight base addr\n",
    "        ifmap_base=ifmap_base, # input feature map base addr\n",
    "        mac_cycles=mac_cycles, # cycle count per mul\n",
    "        wgt_bw_opt=False, # optimize the bandwidth of input and output to match that of weight\n",
    "        sram_read_trace_file=\"sram_read_ws_usystolic_no_opt.csv\",\n",
    "        sram_write_trace_file=\"sram_write_ws_usystolic_no_opt.csv\")\n",
    "end = time.time()\n",
    "print(end - start)\n",
    "print(cycle, util)"
   ]
  },
  {
   "cell_type": "code",
   "execution_count": 5,
   "metadata": {},
   "outputs": [
    {
     "name": "stderr",
     "output_type": "stream",
     "text": [
      "100%|██████████| 1/1 [00:01<00:00,  1.05s/it]"
     ]
    },
    {
     "name": "stdout",
     "output_type": "stream",
     "text": [
      "1.0492374897003174\n",
      "35814 23.650449195845198\n"
     ]
    },
    {
     "name": "stderr",
     "output_type": "stream",
     "text": [
      "\n"
     ]
    }
   ],
   "source": [
    "if os.path.exists(\"sram_read_ws.csv\"):\n",
    "  os.remove(\"sram_read_ws.csv\")\n",
    "else:\n",
    "  print(\"sram_read_ws.csv does not exist\")\n",
    "\n",
    "if os.path.exists(\"sram_write_ws.csv\"):\n",
    "  os.remove(\"sram_write_ws.csv\")\n",
    "else:\n",
    "  print(\"sram_write_ws.csv does not exist\")\n",
    "\n",
    "start = time.time()\n",
    "cycle, util = sram_traffic_ws.sram_traffic(\n",
    "        dimension_rows=dimension_rows, # row size of systolic array\n",
    "        dimension_cols=dimension_cols, # column size of systolic array\n",
    "        ifmap_h=ifmap_h, # input feature map height\n",
    "        ifmap_w=ifmap_w, # input feature map width\n",
    "        filt_h=filt_h, # weight height\n",
    "        filt_w=filt_w, # weight width\n",
    "        num_channels=num_channels, # input channel count\n",
    "        strides=strides, # stride, assuming identical in row and column dimension\n",
    "        num_filt=num_filt, # filter count, also output channel count\n",
    "        ofmap_base=ofmap_base, # output feature map base addr\n",
    "        filt_base=filt_base, # weight base addr\n",
    "        ifmap_base=ifmap_base, # input feature map base addr\n",
    "        sram_read_trace_file=\"sram_read_ws.csv\",\n",
    "        sram_write_trace_file=\"sram_write_ws.csv\")\n",
    "end = time.time()\n",
    "print(end - start)\n",
    "print(cycle, util)"
   ]
  },
  {
   "cell_type": "code",
   "execution_count": null,
   "metadata": {},
   "outputs": [],
   "source": []
  }
 ],
 "metadata": {
  "kernelspec": {
   "display_name": "Python 3",
   "language": "python",
   "name": "python3"
  },
  "language_info": {
   "codemirror_mode": {
    "name": "ipython",
    "version": 3
   },
   "file_extension": ".py",
   "mimetype": "text/x-python",
   "name": "python",
   "nbconvert_exporter": "python",
   "pygments_lexer": "ipython3",
   "version": "3.8.5"
  }
 },
 "nbformat": 4,
 "nbformat_minor": 4
}
